{
  "nbformat": 4,
  "nbformat_minor": 0,
  "metadata": {
    "colab": {
      "provenance": []
    },
    "kernelspec": {
      "name": "python3",
      "display_name": "Python 3"
    },
    "language_info": {
      "name": "python"
    }
  },
  "cells": [
    {
      "cell_type": "code",
      "source": [
        "import pandas as pd\n",
        "import csv\n",
        "import matplotlib.pyplot as plt\n",
        "from google.colab import files\n",
        "\n",
        "\n",
        "# Load the CSVs (change for the name of your respective documents)\n",
        "df_old = pd.read_csv('botRecordOld.csv', encoding='unicode_escape')\n",
        "df_new = pd.read_csv('botRecordNew.csv', encoding='unicode_escape')\n",
        "\n",
        "# Clean whitespace and convert types\n",
        "for df in [df_old, df_new]:\n",
        "    df.columns = df.columns.str.strip()\n",
        "    df['character'] = df['character'].str.strip()\n",
        "    df['tag'] = df['tag'].str.strip()\n",
        "    df['chats'] = df['chats'].str.replace(',', '').astype(int)\n",
        "    df['likes'] = df['likes'].astype(int)\n",
        "\n",
        "# Merge on composite key\n",
        "df_merged = df_old.merge(df_new, on=['character', 'tag'], suffixes=('_old', '_new'), how='inner')\n",
        "\n",
        "# Compute changes\n",
        "df_merged['chats_diff'] = df_merged['chats_new'] - df_merged['chats_old']\n",
        "df_merged['likes_diff'] = df_merged['likes_new'] - df_merged['likes_old']\n",
        "\n",
        "df_merged['chats_pct'] = ((df_merged['chats_diff'] / df_merged['chats_old']) * 100).round(1)\n",
        "df_merged['likes_pct'] = ((df_merged['likes_diff'] / df_merged['likes_old'].replace(0, 1)) * 100).round(1)  # avoid /0\n",
        "\n",
        "# Only show rows where there's some increase\n",
        "df_increased = df_merged[(df_merged['chats_diff'] > 0) | (df_merged['likes_diff'] > 0)].copy()\n",
        "\n",
        "# Format display\n",
        "df_increased['chats_change'] = '+' + df_increased['chats_diff'].astype(str) + ' (' + df_increased['chats_pct'].astype(str) + '%)'\n",
        "df_increased['likes_change'] = '+' + df_increased['likes_diff'].astype(str) + ' (' + df_increased['likes_pct'].astype(str) + '%)'\n",
        "\n",
        "summary = df_increased[['character', 'tag', 'chats_change', 'likes_change']]\n",
        "print(summary)\n",
        "\n",
        "# --- Plotting ---\n",
        "\n",
        "# Top N increases in chats\n",
        "top_chats = df_increased.sort_values('chats_diff', ascending=False).head(10)\n",
        "\n",
        "plt.figure(figsize=(10, 6))\n",
        "plt.barh(top_chats['character'] + \" - \" + top_chats['tag'], top_chats['chats_diff'], color='skyblue')\n",
        "plt.xlabel('Chats Increase')\n",
        "plt.title('Top 10 Increases in Chats')\n",
        "plt.gca().invert_yaxis()\n",
        "plt.tight_layout()\n",
        "plt.show()\n",
        "\n",
        "# Top N increases in likes\n",
        "top_likes = df_increased.sort_values('likes_diff', ascending=False).head(10)\n",
        "\n",
        "plt.figure(figsize=(10, 6))\n",
        "plt.barh(top_likes['character'] + \" - \" + top_likes['tag'], top_likes['likes_diff'], color='salmon')\n",
        "plt.xlabel('Likes Increase')\n",
        "plt.title('Top 10 Increases in Likes')\n",
        "plt.gca().invert_yaxis()\n",
        "plt.tight_layout()\n",
        "plt.show()"
      ],
      "metadata": {
        "id": "1rU3Q7X39cAh"
      },
      "execution_count": null,
      "outputs": []
    },
    {
      "cell_type": "code",
      "source": [
        "from IPython.display import display\n",
        "display(df_increased)"
      ],
      "metadata": {
        "id": "c3uXV2VmhPx8"
      },
      "execution_count": null,
      "outputs": []
    }
  ]
}